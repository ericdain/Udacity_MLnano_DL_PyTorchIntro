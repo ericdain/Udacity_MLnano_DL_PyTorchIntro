{
 "cells": [
  {
   "cell_type": "markdown",
   "metadata": {},
   "source": [
    "# Neural networks with PyTorch\n",
    "\n",
    "Deep learning networks tend to be massive with dozens or hundreds of layers, that's where the term \"deep\" comes from. You can build one of these deep networks using only weight matrices as we did in the previous notebook, but in general it's very cumbersome and difficult to implement. PyTorch has a nice module `nn` that provides a nice way to efficiently build large neural networks."
   ]
  },
  {
   "cell_type": "code",
   "execution_count": 1,
   "metadata": {},
   "outputs": [],
   "source": [
    "# Import necessary packages\n",
    "\n",
    "%matplotlib inline\n",
    "%config InlineBackend.figure_format = 'retina'\n",
    "\n",
    "import numpy as np\n",
    "import torch\n",
    "\n",
    "import helper\n",
    "\n",
    "import matplotlib.pyplot as plt"
   ]
  },
  {
   "cell_type": "markdown",
   "metadata": {},
   "source": [
    "\n",
    "Now we're going to build a larger network that can solve a (formerly) difficult problem, identifying text in an image. Here we'll use the MNIST dataset which consists of greyscale handwritten digits. Each image is 28x28 pixels, you can see a sample below\n",
    "\n",
    "<img src='assets/mnist.png'>\n",
    "\n",
    "Our goal is to build a neural network that can take one of these images and predict the digit in the image.\n",
    "\n",
    "First up, we need to get our dataset. This is provided through the `torchvision` package. The code below will download the MNIST dataset, then create training and test datasets for us. Don't worry too much about the details here, you'll learn more about this later."
   ]
  },
  {
   "cell_type": "code",
   "execution_count": 2,
   "metadata": {},
   "outputs": [
    {
     "name": "stdout",
     "output_type": "stream",
     "text": [
      "Downloading http://yann.lecun.com/exdb/mnist/train-images-idx3-ubyte.gz to C:\\Users\\TacosAreYum/.pytorch/MNIST_data/MNIST\\raw\\train-images-idx3-ubyte.gz\n"
     ]
    },
    {
     "name": "stderr",
     "output_type": "stream",
     "text": [
      "9920512it [00:00, 17746996.36it/s]                            \n"
     ]
    },
    {
     "name": "stdout",
     "output_type": "stream",
     "text": [
      "Extracting C:\\Users\\TacosAreYum/.pytorch/MNIST_data/MNIST\\raw\\train-images-idx3-ubyte.gz to C:\\Users\\TacosAreYum/.pytorch/MNIST_data/MNIST\\raw\n",
      "Downloading http://yann.lecun.com/exdb/mnist/train-labels-idx1-ubyte.gz to C:\\Users\\TacosAreYum/.pytorch/MNIST_data/MNIST\\raw\\train-labels-idx1-ubyte.gz\n"
     ]
    },
    {
     "name": "stderr",
     "output_type": "stream",
     "text": [
      "32768it [00:00, 468116.33it/s]\n"
     ]
    },
    {
     "name": "stdout",
     "output_type": "stream",
     "text": [
      "Extracting C:\\Users\\TacosAreYum/.pytorch/MNIST_data/MNIST\\raw\\train-labels-idx1-ubyte.gz to C:\\Users\\TacosAreYum/.pytorch/MNIST_data/MNIST\\raw\n",
      "Downloading http://yann.lecun.com/exdb/mnist/t10k-images-idx3-ubyte.gz to C:\\Users\\TacosAreYum/.pytorch/MNIST_data/MNIST\\raw\\t10k-images-idx3-ubyte.gz\n"
     ]
    },
    {
     "name": "stderr",
     "output_type": "stream",
     "text": [
      "1654784it [00:00, 6895083.75it/s]                           \n"
     ]
    },
    {
     "name": "stdout",
     "output_type": "stream",
     "text": [
      "Extracting C:\\Users\\TacosAreYum/.pytorch/MNIST_data/MNIST\\raw\\t10k-images-idx3-ubyte.gz to C:\\Users\\TacosAreYum/.pytorch/MNIST_data/MNIST\\raw\n",
      "Downloading http://yann.lecun.com/exdb/mnist/t10k-labels-idx1-ubyte.gz to C:\\Users\\TacosAreYum/.pytorch/MNIST_data/MNIST\\raw\\t10k-labels-idx1-ubyte.gz\n"
     ]
    },
    {
     "name": "stderr",
     "output_type": "stream",
     "text": [
      "8192it [00:00, 204785.55it/s]\n"
     ]
    },
    {
     "name": "stdout",
     "output_type": "stream",
     "text": [
      "Extracting C:\\Users\\TacosAreYum/.pytorch/MNIST_data/MNIST\\raw\\t10k-labels-idx1-ubyte.gz to C:\\Users\\TacosAreYum/.pytorch/MNIST_data/MNIST\\raw\n",
      "Processing...\n",
      "Done!\n"
     ]
    }
   ],
   "source": [
    "### Run this cell\n",
    "\n",
    "from torchvision import datasets, transforms\n",
    "\n",
    "# Define a transform to normalize the data\n",
    "transform = transforms.Compose([transforms.ToTensor(),\n",
    "                              transforms.Normalize((0.5,), (0.5,)),\n",
    "                              ])\n",
    "\n",
    "# Download and load the training data\n",
    "trainset = datasets.MNIST('~/.pytorch/MNIST_data/', download=True, train=True, transform=transform)\n",
    "trainloader = torch.utils.data.DataLoader(trainset, batch_size=64, shuffle=True)"
   ]
  },
  {
   "cell_type": "markdown",
   "metadata": {},
   "source": [
    "We have the training data loaded into `trainloader` and we make that an iterator with `iter(trainloader)`. Later, we'll use this to loop through the dataset for training, like\n",
    "\n",
    "```python\n",
    "for image, label in trainloader:\n",
    "    ## do things with images and labels\n",
    "```\n",
    "\n",
    "You'll notice I created the `trainloader` with a batch size of 64, and `shuffle=True`. The batch size is the number of images we get in one iteration from the data loader and pass through our network, often called a *batch*. And `shuffle=True` tells it to shuffle the dataset every time we start going through the data loader again. But here I'm just grabbing the first batch so we can check out the data. We can see below that `images` is just a tensor with size `(64, 1, 28, 28)`. So, 64 images per batch, 1 color channel, and 28x28 images."
   ]
  },
  {
   "cell_type": "code",
   "execution_count": 3,
   "metadata": {},
   "outputs": [
    {
     "name": "stdout",
     "output_type": "stream",
     "text": [
      "<class 'torch.Tensor'>\n",
      "torch.Size([64, 1, 28, 28])\n",
      "torch.Size([64])\n"
     ]
    }
   ],
   "source": [
    "dataiter = iter(trainloader)\n",
    "images, labels = dataiter.next()\n",
    "print(type(images))\n",
    "print(images.shape)\n",
    "print(labels.shape)"
   ]
  },
  {
   "cell_type": "markdown",
   "metadata": {},
   "source": [
    "This is what one of the images looks like. "
   ]
  },
  {
   "cell_type": "code",
   "execution_count": 5,
   "metadata": {},
   "outputs": [
    {
     "data": {
      "image/png": "[encoded data removed]",
      "text/plain": [
       "<Figure size 432x288 with 1 Axes>"
      ]
     },
     "metadata": {
      "image/png": {
       "height": 250,
       "width": 253
      },
      "needs_background": "light"
     },
     "output_type": "display_data"
    }
   ],
   "source": [
    "plt.imshow(images[1].numpy().squeeze(), cmap='Greys_r');"
   ]
  },
  {
   "cell_type": "markdown",
   "metadata": {},
   "source": [
    "First, let's try to build a simple network for this dataset using weight matrices and matrix multiplications. Then, we'll see how to do it using PyTorch's `nn` module which provides a much more convenient and powerful method for defining network architectures.\n",
    "\n",
    "The networks you've seen so far are called *fully-connected* or *dense* networks. Each unit in one layer is connected to each unit in the next layer. In fully-connected networks, the input to each layer must be a one-dimensional vector (which can be stacked into a 2D tensor as a batch of multiple examples). However, our images are 28x28 2D tensors, so we need to convert them into 1D vectors. Thinking about sizes, we need to convert the batch of images with shape `(64, 1, 28, 28)` to a have a shape of `(64, 784)`, 784 is 28 times 28. This is typically called *flattening*, we flattened the 2D images into 1D vectors.\n",
    "\n",
    "Previously you built a network with one output unit. Here we need 10 output units, one for each digit. We want our network to predict the digit shown in an image, so what we'll do is calculate probabilities that the image is of any one digit or class. This ends up being a discrete probability distribution over the classes (digits) that tells us the most likely class for the image. That means we need 10 output units for the 10 classes (digits). We'll see how to convert the network output into a probability distribution next.\n",
    "\n",
    "> **Exercise:** Flatten the batch of images `images`. Then build a multi-layer network with 784 input units, 256 hidden units, and 10 output units using random tensors for the weights and biases. For now, use a sigmoid activation for the hidden layer. Leave the output layer without an activation, we'll add one that gives us a probability distribution next."
   ]
  },
  {
   "cell_type": "code",
   "execution_count": 18,
   "metadata": {},
   "outputs": [
    {
     "name": "stdout",
     "output_type": "stream",
     "text": [
      "torch.Size([64, 1, 28, 28])\n",
      "torch.Size([64, 784])\n",
      "torch.Size([64, 10])\n",
      "tensor([[ 5.5685e+00, -7.9739e+00,  1.2656e+01,  1.5339e+01, -2.9234e+01,\n",
      "         -3.3143e+00, -3.7180e+00, -6.1003e+00,  9.4692e+00,  7.6786e+00],\n",
      "        [ 1.0117e+00, -4.5272e+00, -3.5768e+00,  1.1163e+00, -1.6042e+01,\n",
      "          4.3617e+00,  9.0139e+00, -9.9646e+00, -4.8067e+00,  8.6010e+00],\n",
      "        [ 1.3655e+01, -4.1744e+00,  1.0756e+00,  1.6406e+01, -1.1324e+01,\n",
      "         -2.1079e+00, -1.0998e+01,  5.9880e+00, -5.3351e+00,  3.0598e+00],\n",
      "        [-2.4058e+00,  4.9890e+00,  5.4627e+00,  1.7847e+01, -2.1325e+01,\n",
      "          2.5638e+00,  1.8595e+00, -5.6873e+00,  9.9979e+00,  1.5998e+01],\n",
      "        [ 7.1980e+00, -6.2384e+00, -2.4902e-01,  1.8691e+01, -2.2821e+01,\n",
      "          5.3066e+00,  1.1392e+01, -2.2959e+00, -4.5995e+00,  5.8961e+00],\n",
      "        [ 4.4112e+00,  2.2131e+00, -6.2843e+00,  5.7730e+00, -1.8069e+01,\n",
      "          2.8828e+00, -1.4296e+00, -1.0253e+01,  6.3900e+00,  6.7515e+00],\n",
      "        [ 5.1583e+00, -4.9476e+00, -3.0890e+00,  6.1839e+00, -1.9210e+01,\n",
      "          5.6838e-02,  9.0924e+00, -2.8644e+00,  4.6028e+00,  7.8715e+00],\n",
      "        [-2.9217e+00,  2.7481e+00, -7.7283e+00,  6.3150e+00, -1.0498e+01,\n",
      "          1.8726e+00,  4.7911e+00, -9.1623e+00,  4.8610e+00,  6.5333e+00],\n",
      "        [-4.4592e+00, -1.9324e+00, -8.5143e+00,  4.9851e+00, -2.2727e+01,\n",
      "          4.4791e+00,  3.4691e+00, -7.9170e+00,  7.8428e+00,  6.1811e+00],\n",
      "        [ 6.0275e+00,  2.2828e-01, -4.2709e-01,  4.0122e+00, -1.4683e+01,\n",
      "         -3.2936e+00,  2.6885e+00, -4.9953e+00,  2.4085e+00,  1.1587e+01],\n",
      "        [-3.6890e-01,  8.1291e+00, -2.6659e+00,  9.1364e+00, -2.0047e+01,\n",
      "         -3.6703e+00, -6.8398e+00,  1.8773e+00,  7.7830e+00,  4.2274e+00],\n",
      "        [ 6.8768e+00, -6.0636e+00, -4.9234e+00,  1.9697e+01, -1.3364e+01,\n",
      "         -4.7247e+00,  2.4178e+00, -7.6684e+00,  4.4802e+00,  9.7817e+00],\n",
      "        [ 3.6122e+00,  5.9278e-01, -7.5483e+00,  9.1572e+00, -1.9769e+01,\n",
      "          6.9683e-01,  8.5796e+00, -1.2438e-01,  7.8014e+00,  8.7231e+00],\n",
      "        [ 1.2651e+01,  1.7679e-01, -2.7845e+00,  3.1880e+00, -1.9654e+01,\n",
      "         -2.3962e-01,  3.2784e+00,  1.2427e-01,  4.4137e+00,  1.9117e+01],\n",
      "        [-3.2969e+00, -8.2003e+00,  9.9850e+00,  2.0250e+01, -1.8315e+01,\n",
      "          1.2314e+00, -9.9740e+00, -9.3068e+00,  9.2065e+00,  7.8833e+00],\n",
      "        [ 7.4813e+00, -3.4770e+00,  1.3679e-01,  1.3453e+01, -1.9681e+01,\n",
      "          5.3430e+00,  4.5745e+00, -2.6927e+00,  5.7006e-01,  9.4197e+00],\n",
      "        [ 5.7556e-01,  3.9022e-01,  3.7684e+00,  1.4117e+01, -1.9348e+01,\n",
      "          3.1908e+00, -1.2506e+00, -1.2576e+01,  7.4834e+00,  1.0631e+01],\n",
      "        [ 9.3917e+00,  4.8549e+00, -4.7331e+00,  7.0821e+00, -1.6568e+01,\n",
      "          1.2691e+00, -4.4315e+00,  2.3513e+00, -7.7329e+00,  6.4771e+00],\n",
      "        [ 5.6298e+00, -3.7806e+00, -1.5775e+00,  1.3679e+01, -1.5986e+01,\n",
      "          3.8215e+00,  6.0067e+00, -3.6517e+00,  4.2811e+00,  1.4898e+01],\n",
      "        [-3.9775e-01,  2.1227e+00, -1.2879e+01,  4.6927e+00, -2.2819e+01,\n",
      "          3.6222e+00,  2.9901e+00,  1.6306e-01, -2.0380e+00,  1.4723e+01],\n",
      "        [-6.5508e+00,  2.5203e+00, -4.0283e+00,  2.8064e+00, -1.4694e+01,\n",
      "          9.4313e+00,  3.1707e+00, -1.4659e+01,  5.1583e+00,  5.9518e+00],\n",
      "        [ 5.7253e+00, -5.6385e+00,  3.4673e+00,  1.4060e+01, -1.4641e+01,\n",
      "         -4.7126e+00, -1.9488e-01, -1.3426e+01, -4.2438e+00,  4.7408e+00],\n",
      "        [ 4.7659e+00,  2.0232e-01,  6.8523e+00,  1.7354e+01, -2.5193e+01,\n",
      "         -5.9926e-01, -7.7563e-01, -1.0476e+01,  2.9990e-01,  1.2057e+01],\n",
      "        [-5.0669e+00,  3.2358e+00, -1.1261e+01, -1.5629e+00, -2.2256e+01,\n",
      "          6.8660e-01, -6.2064e+00, -3.0010e+00, -8.5657e-01,  1.0165e+01],\n",
      "        [ 9.0212e+00, -1.5593e+00,  1.4699e+01,  1.6438e+01, -1.2314e+01,\n",
      "         -9.7800e+00, -1.2230e+00, -1.2146e+01,  3.1701e+00,  7.4122e+00],\n",
      "        [-3.3611e+00, -9.6662e+00,  8.6685e-01,  1.0023e+01, -2.2167e+01,\n",
      "          6.5307e+00,  7.3374e+00, -4.9119e+00,  7.5457e+00,  5.7569e+00],\n",
      "        [-4.5429e+00, -2.4827e+00, -7.2090e+00,  1.8587e+00, -1.8352e+01,\n",
      "         -2.0109e+00, -6.2980e-01,  8.1059e-01, -1.0177e+00,  5.3447e+00],\n",
      "        [-3.4600e-01, -3.0753e+00, -5.8210e-01,  1.1138e+01, -1.5593e+01,\n",
      "         -2.9238e+00,  3.8737e+00, -2.9432e-02,  3.8216e+00,  4.6159e+00],\n",
      "        [ 7.6136e+00, -9.1031e+00, -4.1653e-01,  5.5434e+00, -2.1588e+01,\n",
      "         -4.9497e+00,  1.4423e+01, -8.0082e+00,  2.5753e+00,  5.1537e-01],\n",
      "        [ 6.3587e+00, -4.8930e+00, -3.1273e+00,  2.1222e+01, -1.8539e+01,\n",
      "         -2.3674e+00,  7.1505e+00, -8.7275e+00,  7.5955e+00,  1.2621e+01],\n",
      "        [ 7.4610e-01,  3.4545e-01, -3.2276e+00,  6.2696e+00, -2.1926e+01,\n",
      "         -6.1116e+00,  6.9248e+00, -1.5482e+01,  9.0092e+00,  1.0792e+01],\n",
      "        [ 3.0761e+00,  5.7046e+00, -5.9341e+00,  1.1389e+01, -1.7584e+01,\n",
      "         -1.1647e+01,  4.5414e+00, -1.3539e+00,  7.9839e+00,  1.1539e+01],\n",
      "        [-8.7634e+00,  7.4469e+00, -1.2028e+01,  1.3041e+00, -1.7250e+01,\n",
      "          7.9004e+00,  3.7598e+00, -1.2606e+01,  3.7726e+00,  8.3380e+00],\n",
      "        [ 5.3686e+00,  7.6733e+00, -1.0840e+01, -5.6003e+00, -1.7955e+01,\n",
      "         -2.8244e+00,  7.5345e+00,  1.3122e+00,  5.1612e+00,  8.3002e+00],\n",
      "        [ 6.1146e+00,  2.8937e+00,  4.4541e-01,  1.4898e+01, -1.5005e+01,\n",
      "         -1.1409e+01, -5.2556e+00, -9.3602e+00, -1.0797e+00,  1.3347e+01],\n",
      "        [ 7.2166e+00, -3.5634e-01, -6.6700e-01, -2.1161e+00, -9.9722e+00,\n",
      "         -1.2725e+00,  1.9145e+01, -3.3180e+00, -1.4367e+00,  9.5922e+00],\n",
      "        [ 3.8740e+00,  6.3944e+00, -2.5372e+00,  2.7322e+00, -1.8004e+01,\n",
      "          4.2374e-01, -2.1394e+00, -2.2247e+01,  8.0873e+00,  6.0459e+00],\n",
      "        [ 7.4748e+00, -4.4143e-01,  2.1435e+00,  8.4758e+00, -3.0819e+01,\n",
      "          3.7543e+00, -3.6361e+00,  1.8540e+00,  3.9800e+00,  1.6802e+00],\n",
      "        [ 7.3421e+00, -4.7612e+00, -5.2772e+00,  1.4533e+01, -1.4558e+01,\n",
      "          3.7236e+00,  1.3498e+01, -1.1547e+01,  5.8358e+00,  3.3564e+00],\n",
      "        [ 6.0125e+00, -4.1292e-01,  1.0004e+00,  1.8111e+01, -1.8416e+01,\n",
      "          2.8261e+00,  4.0633e+00, -6.3478e+00,  8.8423e+00,  3.4583e+00],\n",
      "        [ 6.9133e+00, -6.2069e+00,  5.1874e+00,  1.6605e+01, -2.0593e+01,\n",
      "         -7.0904e+00,  1.2542e+01, -1.2035e+01,  5.0988e+00,  5.4981e+00],\n",
      "        [ 2.7311e+00,  8.0314e-01, -6.5449e+00,  8.1189e+00, -1.5369e+01,\n",
      "          3.0394e+00,  4.8980e+00, -2.9398e+00,  7.8710e+00,  3.4556e+00],\n",
      "        [ 3.4058e+00, -9.2111e+00, -4.0354e+00,  1.5071e+01, -2.2985e+01,\n",
      "         -1.8878e+00,  8.6650e+00, -5.0665e+00, -4.9957e-01,  4.8217e+00],\n",
      "        [ 8.1580e+00, -5.2608e+00,  4.1814e+00,  1.6580e+01, -1.8677e+01,\n",
      "          2.5634e+00, -5.3664e-01, -3.9271e+00, -1.3258e+00,  5.3115e+00],\n",
      "        [ 7.2858e+00, -6.9253e+00,  3.5791e+00,  6.7349e+00, -2.6712e+01,\n",
      "         -2.1150e+00, -2.2700e+00, -3.2807e+00, -2.1867e+00,  7.9978e+00],\n",
      "        [ 5.9001e+00, -2.4844e+00, -5.7268e+00,  2.4417e+00, -1.5888e+01,\n",
      "         -4.3889e-01, -9.6497e-01, -5.2790e+00,  1.7850e+00,  1.3386e+01],\n",
      "        [ 1.9718e+00, -8.8022e+00, -5.6480e+00, -6.9022e+00, -1.5869e+01,\n",
      "          4.3938e+00,  1.6228e+01, -1.9363e+00,  6.0538e-01,  7.8566e-02],\n",
      "        [ 5.7627e+00, -5.8541e+00, -4.1121e+00,  6.7221e+00, -2.6914e+01,\n",
      "          1.1699e+00, -1.4078e+00,  2.8599e+00, -7.3215e-01,  1.0272e+01],\n",
      "        [ 1.5801e+00,  1.5791e+00,  2.5887e+00,  1.1612e+01, -2.2614e+01,\n",
      "          5.1569e+00, -1.6392e+00, -2.3987e+00, -2.2485e+00,  8.2792e+00],\n",
      "        [ 5.2543e+00, -4.7166e+00,  1.2024e+00,  9.5431e+00, -1.9134e+01,\n",
      "         -2.8741e+00,  7.8175e+00, -1.3818e+01,  1.1900e+01,  1.2487e+01],\n",
      "        [ 6.9025e+00, -5.6921e+00,  1.0247e+01,  1.0762e+01, -1.1679e+01,\n",
      "         -2.5666e+00,  1.3134e+00, -4.2124e+00, -7.2069e+00,  3.4405e+00],\n",
      "        [ 3.1512e-01, -6.3137e+00,  1.6148e+01,  6.3561e+00, -2.2040e+01,\n",
      "          8.0625e+00,  9.1173e+00, -7.3086e+00,  4.5958e+00,  3.5670e+00],\n",
      "        [ 2.4780e-01,  9.7758e-01, -8.4058e+00,  1.5130e+01, -1.2349e+01,\n",
      "         -2.7290e+00, -5.3081e+00, -4.7330e+00, -4.7893e+00,  6.2888e+00],\n",
      "        [ 8.6504e-01, -6.9287e+00,  4.3552e-01,  2.0069e-01, -1.9859e+01,\n",
      "          1.3328e+00,  1.4789e+00, -1.1786e+01,  6.1597e+00,  1.3274e+01],\n",
      "        [ 4.5227e+00, -3.8264e+00, -7.0058e-02,  1.4047e+01, -1.8935e+01,\n",
      "         -4.7753e-01,  5.4644e+00, -1.0563e+01,  1.0098e+01,  1.3598e+01],\n",
      "        [ 6.6567e-01, -4.0837e+00,  4.6564e+00,  4.4693e+00, -1.2368e+01,\n",
      "          6.2694e+00,  2.9478e+00, -5.3029e+00,  9.6009e+00,  6.4023e+00],\n",
      "        [ 7.1737e-01,  7.0694e-01,  5.5217e-01,  4.5352e+00, -2.3020e+01,\n",
      "          2.5508e+00,  6.1418e+00, -3.1311e+00, -1.6575e-01,  1.4978e+01],\n",
      "        [ 6.3943e+00, -8.9358e+00,  8.8597e+00,  1.2733e+01, -1.6893e+01,\n",
      "         -2.2181e-01,  1.0384e+01, -1.0935e+01,  4.4817e+00,  3.8118e+00],\n",
      "        [-6.1308e-01, -7.4628e-01, -2.1983e+00,  8.4586e+00, -2.3077e+01,\n",
      "         -7.5323e+00, -5.5217e+00, -5.8762e+00, -1.8231e-01,  1.1912e+01],\n",
      "        [ 2.5274e+00,  5.8672e+00, -2.2616e+00,  2.9480e+00, -1.3738e+01,\n",
      "          2.2428e+00,  1.1124e+01, -1.0033e+01,  3.3461e+00,  1.2093e+01],\n",
      "        [-5.2500e-01, -5.9668e+00, -3.7410e+00,  1.3025e+01, -1.7622e+01,\n",
      "          2.8657e+00,  5.8124e+00, -7.5306e+00,  1.5061e+00,  4.8769e+00],\n",
      "        [ 9.0459e+00, -9.2552e+00, -6.5281e-01,  2.0174e+01, -1.8724e+01,\n",
      "          1.2915e+01,  5.3687e+00, -2.8416e+00, -9.1249e+00,  6.8340e-01],\n",
      "        [-4.3526e+00, -4.2686e+00,  5.7184e+00,  2.0571e+01, -2.1028e+01,\n",
      "          1.3742e+00, -2.6927e+00, -1.6013e+01,  9.0593e+00, -1.0134e+00],\n",
      "        [ 4.5264e+00,  1.6581e+00, -1.1088e+01,  1.0703e+01, -1.8136e+01,\n"
     ]
    },
    {
     "name": "stdout",
     "output_type": "stream",
     "text": [
      "          3.5882e+00,  8.6724e+00,  1.2385e+00,  2.4622e+00,  6.3415e+00]])\n"
     ]
    }
   ],
   "source": [
    "# Your solution\n",
    "def activation(x):\n",
    "    return 1/(1+torch.exp(-x))\n",
    "\n",
    "#flat_images = torch.flatten(images,start_dim=2, end_dim=-1)\n",
    "flat_images = images.view(images.shape[0],784)\n",
    "print(images.shape)\n",
    "print(flat_images.shape)\n",
    "\n",
    "W1 = torch.randn((784, 256))\n",
    "W2 = torch.randn((256, 10))\n",
    "\n",
    "B1 = torch.randn(256)\n",
    "B2 = torch.randn(10)\n",
    "\n",
    "#out = # output of your network, should have shape (64,10)\n",
    "h = activation(torch.mm(flat_images, W1) + B1)\n",
    "out = torch.mm(h,W2) + B2\n",
    "print(out.shape)\n",
    "print(out)"
   ]
  },
  {
   "cell_type": "markdown",
   "metadata": {},
   "source": [
    "Now we have 10 outputs for our network. We want to pass in an image to our network and get out a probability distribution over the classes that tells us the likely class(es) the image belongs to. Something that looks like this:\n",
    "<img src='assets/image_distribution.png' width=500px>\n",
    "\n",
    "Here we see that the probability for each class is roughly the same. This is representing an untrained network, it hasn't seen any data yet so it just returns a uniform distribution with equal probabilities for each class.\n",
    "\n",
    "To calculate this probability distribution, we often use the [**softmax** function](https://en.wikipedia.org/wiki/Softmax_function). Mathematically this looks like\n",
    "\n",
    "$$\n",
    "\\Large \\sigma(x_i) = \\cfrac{e^{x_i}}{\\sum_k^K{e^{x_k}}}\n",
    "$$\n",
    "\n",
    "What this does is squish each input $x_i$ between 0 and 1 and normalizes the values to give you a proper probability distribution where the probabilites sum up to one.\n",
    "\n",
    "> **Exercise:** Implement a function `softmax` that performs the softmax calculation and returns probability distributions for each example in the batch. Note that you'll need to pay attention to the shapes when doing this. If you have a tensor `a` with shape `(64, 10)` and a tensor `b` with shape `(64,)`, doing `a/b` will give you an error because PyTorch will try to do the division across the columns (called broadcasting) but you'll get a size mismatch. The way to think about this is for each of the 64 examples, you only want to divide by one value, the sum in the denominator. So you need `b` to have a shape of `(64, 1)`. This way PyTorch will divide the 10 values in each row of `a` by the one value in each row of `b`. Pay attention to how you take the sum as well. You'll need to define the `dim` keyword in `torch.sum`. Setting `dim=0` takes the sum across the rows while `dim=1` takes the sum across the columns."
   ]
  },
  {
   "cell_type": "code",
   "execution_count": 30,
   "metadata": {},
   "outputs": [
    {
     "name": "stdout",
     "output_type": "stream",
     "text": [
      "torch.Size([64, 10])\n",
      "tensor([1.0000, 1.0000, 1.0000, 1.0000, 1.0000, 1.0000, 1.0000, 1.0000, 1.0000,\n",
      "        1.0000, 1.0000, 1.0000, 1.0000, 1.0000, 1.0000, 1.0000, 1.0000, 1.0000,\n",
      "        1.0000, 1.0000, 1.0000, 1.0000, 1.0000, 1.0000, 1.0000, 1.0000, 1.0000,\n",
      "        1.0000, 1.0000, 1.0000, 1.0000, 1.0000, 1.0000, 1.0000, 1.0000, 1.0000,\n",
      "        1.0000, 1.0000, 1.0000, 1.0000, 1.0000, 1.0000, 1.0000, 1.0000, 1.0000,\n",
      "        1.0000, 1.0000, 1.0000, 1.0000, 1.0000, 1.0000, 1.0000, 1.0000, 1.0000,\n",
      "        1.0000, 1.0000, 1.0000, 1.0000, 1.0000, 1.0000, 1.0000, 1.0000, 1.0000,\n",
      "        1.0000])\n"
     ]
    }
   ],
   "source": [
    "def softmax(x):\n",
    "    ## TODO: Implement the softmax function here\n",
    "    return np.exp(x)/torch.sum(np.exp(x), dim=1).view(-1, 1)\n",
    "\n",
    "# Here, out should be the output of the network in the previous excercise with shape (64,10)\n",
    "probabilities = softmax(out)\n",
    "\n",
    "#print(probabilities)\n",
    "# Does it have the right shape? Should be (64, 10)\n",
    "print(probabilities.shape)\n",
    "# Does it sum to 1?\n",
    "print(probabilities.sum(dim=1))"
   ]
  },
  {
   "cell_type": "markdown",
   "metadata": {},
   "source": [
    "## Building networks with PyTorch\n",
    "\n",
    "PyTorch provides a module `nn` that makes building networks much simpler. Here I'll show you how to build the same one as above with 784 inputs, 256 hidden units, 10 output units and a softmax output."
   ]
  },
  {
   "cell_type": "code",
   "execution_count": 33,
   "metadata": {},
   "outputs": [],
   "source": [
    "from torch import nn"
   ]
  },
  {
   "cell_type": "code",
   "execution_count": 34,
   "metadata": {},
   "outputs": [],
   "source": [
    "class Network(nn.Module):\n",
    "    def __init__(self):\n",
    "        super().__init__()\n",
    "        \n",
    "        # Inputs to hidden layer linear transformation\n",
    "        self.hidden = nn.Linear(784, 256)\n",
    "        # Output layer, 10 units - one for each digit\n",
    "        self.output = nn.Linear(256, 10)\n",
    "        \n",
    "        # Define sigmoid activation and softmax output \n",
    "        self.sigmoid = nn.Sigmoid()\n",
    "        self.softmax = nn.Softmax(dim=1)\n",
    "        \n",
    "    def forward(self, x):\n",
    "        # Pass the input tensor through each of our operations\n",
    "        x = self.hidden(x)\n",
    "        x = self.sigmoid(x)\n",
    "        x = self.output(x)\n",
    "        x = self.softmax(x)\n",
    "        \n",
    "        return x"
   ]
  },
  {
   "cell_type": "markdown",
   "metadata": {},
   "source": [
    "Let's go through this bit by bit.\n",
    "\n",
    "```python\n",
    "class Network(nn.Module):\n",
    "```\n",
    "\n",
    "Here we're inheriting from `nn.Module`. Combined with `super().__init__()` this creates a class that tracks the architecture and provides a lot of useful methods and attributes. It is mandatory to inherit from `nn.Module` when you're creating a class for your network. The name of the class itself can be anything.\n",
    "\n",
    "```python\n",
    "self.hidden = nn.Linear(784, 256)\n",
    "```\n",
    "\n",
    "This line creates a module for a linear transformation, $x\\mathbf{W} + b$, with 784 inputs and 256 outputs and assigns it to `self.hidden`. The module automatically creates the weight and bias tensors which we'll use in the `forward` method. You can access the weight and bias tensors once the network (`net`) is created with `net.hidden.weight` and `net.hidden.bias`.\n",
    "\n",
    "```python\n",
    "self.output = nn.Linear(256, 10)\n",
    "```\n",
    "\n",
    "Similarly, this creates another linear transformation with 256 inputs and 10 outputs.\n",
    "\n",
    "```python\n",
    "self.sigmoid = nn.Sigmoid()\n",
    "self.softmax = nn.Softmax(dim=1)\n",
    "```\n",
    "\n",
    "Here I defined operations for the sigmoid activation and softmax output. Setting `dim=1` in `nn.Softmax(dim=1)` calculates softmax across the columns.\n",
    "\n",
    "```python\n",
    "def forward(self, x):\n",
    "```\n",
    "\n",
    "PyTorch networks created with `nn.Module` must have a `forward` method defined. It takes in a tensor `x` and passes it through the operations you defined in the `__init__` method.\n",
    "\n",
    "```python\n",
    "x = self.hidden(x)\n",
    "x = self.sigmoid(x)\n",
    "x = self.output(x)\n",
    "x = self.softmax(x)\n",
    "```\n",
    "\n",
    "Here the input tensor `x` is passed through each operation and reassigned to `x`. We can see that the input tensor goes through the hidden layer, then a sigmoid function, then the output layer, and finally the softmax function. It doesn't matter what you name the variables here, as long as the inputs and outputs of the operations match the network architecture you want to build. The order in which you define things in the `__init__` method doesn't matter, but you'll need to sequence the operations correctly in the `forward` method.\n",
    "\n",
    "Now we can create a `Network` object."
   ]
  },
  {
   "cell_type": "code",
   "execution_count": 35,
   "metadata": {},
   "outputs": [
    {
     "data": {
      "text/plain": [
       "Network(\n",
       "  (hidden): Linear(in_features=784, out_features=256, bias=True)\n",
       "  (output): Linear(in_features=256, out_features=10, bias=True)\n",
       "  (sigmoid): Sigmoid()\n",
       "  (softmax): Softmax(dim=1)\n",
       ")"
      ]
     },
     "execution_count": 35,
     "metadata": {},
     "output_type": "execute_result"
    }
   ],
   "source": [
    "# Create the network and look at it's text representation\n",
    "model = Network()\n",
    "model"
   ]
  },
  {
   "cell_type": "markdown",
   "metadata": {},
   "source": [
    "You can define the network somewhat more concisely and clearly using the `torch.nn.functional` module. This is the most common way you'll see networks defined as many operations are simple element-wise functions. We normally import this module as `F`, `import torch.nn.functional as F`."
   ]
  },
  {
   "cell_type": "code",
   "execution_count": 36,
   "metadata": {},
   "outputs": [],
   "source": [
    "import torch.nn.functional as F\n",
    "\n",
    "class Network(nn.Module):\n",
    "    def __init__(self):\n",
    "        super().__init__()\n",
    "        # Inputs to hidden layer linear transformation\n",
    "        self.hidden = nn.Linear(784, 256)\n",
    "        # Output layer, 10 units - one for each digit\n",
    "        self.output = nn.Linear(256, 10)\n",
    "        \n",
    "    def forward(self, x):\n",
    "        # Hidden layer with sigmoid activation\n",
    "        x = F.sigmoid(self.hidden(x))\n",
    "        # Output layer with softmax activation\n",
    "        x = F.softmax(self.output(x), dim=1)\n",
    "        \n",
    "        return x"
   ]
  },
  {
   "cell_type": "markdown",
   "metadata": {},
   "source": [
    "### Activation functions\n",
    "\n",
    "So far we've only been looking at the sigmoid activation function, but in general any function can be used as an activation function. The only requirement is that for a network to approximate a non-linear function, the activation functions must be non-linear. Here are a few more examples of common activation functions: Tanh (hyperbolic tangent), and ReLU (rectified linear unit).\n",
    "\n",
    "<img src=\"assets/activation.png\" width=700px>\n",
    "\n",
    "In practice, the ReLU function is used almost exclusively as the activation function for hidden layers."
   ]
  },
  {
   "cell_type": "markdown",
   "metadata": {},
   "source": [
    "### Your Turn to Build a Network\n",
    "\n",
    "<img src=\"assets/mlp_mnist.png\" width=600px>\n",
    "\n",
    "> **Exercise:** Create a network with 784 input units, a hidden layer with 128 units and a ReLU activation, then a hidden layer with 64 units and a ReLU activation, and finally an output layer with a softmax activation as shown above. You can use a ReLU activation with the `nn.ReLU` module or `F.relu` function.\n",
    "\n",
    "It's good practice to name your layers by their type of network, for instance 'fc' to represent a fully-connected layer. As you code your solution, use `fc1`, `fc2`, and `fc3` as your layer names."
   ]
  },
  {
   "cell_type": "code",
   "execution_count": 56,
   "metadata": {
    "scrolled": true
   },
   "outputs": [],
   "source": [
    "## Your solution here\n",
    "import torch.nn.functional as F\n",
    "\n",
    "class Network(nn.Module):\n",
    "    def __init__(self):\n",
    "        super().__init__()\n",
    "        self.fc1 = nn.Linear(784, 128)\n",
    "        self.fc2 = nn.Linear(128, 64)\n",
    "        self.fc3 = nn.Linear(64, 10)\n",
    "        \n",
    "    def forward(self, x):\n",
    "        x = F.relu(self.fc1(x))\n",
    "        x = F.relu(self.fc2(x))\n",
    "        x = F.softmax(self.fc3(x), dim=1)\n",
    "        \n",
    "        return x\n",
    "\n",
    "model = Network()\n"
   ]
  },
  {
   "cell_type": "markdown",
   "metadata": {},
   "source": [
    "### Initializing weights and biases\n",
    "\n",
    "The weights and such are automatically initialized for you, but it's possible to customize how they are initialized. The weights and biases are tensors attached to the layer you defined, you can get them with `model.fc1.weight` for instance."
   ]
  },
  {
   "cell_type": "code",
   "execution_count": 50,
   "metadata": {},
   "outputs": [
    {
     "name": "stdout",
     "output_type": "stream",
     "text": [
      "Parameter containing:\n",
      "tensor([[ 0.0271,  0.0027,  0.0283,  ..., -0.0241,  0.0263,  0.0077],\n",
      "        [ 0.0173, -0.0258, -0.0117,  ...,  0.0067,  0.0187, -0.0205],\n",
      "        [-0.0086,  0.0229,  0.0054,  ..., -0.0258,  0.0039,  0.0315],\n",
      "        ...,\n",
      "        [-0.0220,  0.0247, -0.0213,  ..., -0.0140, -0.0329,  0.0145],\n",
      "        [-0.0227, -0.0349,  0.0255,  ..., -0.0213,  0.0043,  0.0081],\n",
      "        [ 0.0155, -0.0252,  0.0160,  ..., -0.0322, -0.0264,  0.0203]],\n",
      "       requires_grad=True)\n",
      "Parameter containing:\n",
      "tensor([ 0.0134,  0.0277, -0.0077,  0.0103, -0.0351, -0.0100,  0.0205,  0.0108,\n",
      "        -0.0203, -0.0319, -0.0189, -0.0186,  0.0190, -0.0074, -0.0314,  0.0337,\n",
      "        -0.0047, -0.0033, -0.0021, -0.0258,  0.0208,  0.0014,  0.0075, -0.0045,\n",
      "         0.0004, -0.0304, -0.0248,  0.0045, -0.0151, -0.0132, -0.0264,  0.0338,\n",
      "        -0.0029, -0.0336,  0.0335, -0.0350,  0.0118,  0.0232,  0.0003, -0.0028,\n",
      "         0.0119, -0.0006,  0.0240, -0.0196, -0.0199,  0.0059,  0.0170, -0.0058,\n",
      "         0.0305, -0.0075, -0.0217, -0.0121, -0.0056,  0.0272,  0.0060,  0.0250,\n",
      "         0.0014, -0.0254, -0.0075,  0.0336, -0.0254,  0.0333, -0.0312, -0.0313,\n",
      "        -0.0015, -0.0088,  0.0107, -0.0091, -0.0244, -0.0007, -0.0104, -0.0002,\n",
      "        -0.0288, -0.0243, -0.0137, -0.0343,  0.0261,  0.0219, -0.0256,  0.0301,\n",
      "        -0.0291, -0.0093, -0.0095,  0.0337,  0.0356,  0.0036,  0.0154, -0.0212,\n",
      "         0.0241, -0.0010,  0.0135, -0.0356,  0.0089, -0.0200, -0.0299, -0.0088,\n",
      "         0.0294,  0.0247, -0.0335, -0.0253,  0.0090, -0.0299,  0.0130,  0.0276,\n",
      "        -0.0071,  0.0137, -0.0105,  0.0119, -0.0031, -0.0235, -0.0334,  0.0038,\n",
      "         0.0056,  0.0246, -0.0281, -0.0323, -0.0214, -0.0308, -0.0160,  0.0226,\n",
      "         0.0185,  0.0128, -0.0107, -0.0235, -0.0161,  0.0220,  0.0308,  0.0125],\n",
      "       requires_grad=True)\n"
     ]
    }
   ],
   "source": [
    "print(model.fc1.weight)\n",
    "print(model.fc1.bias)"
   ]
  },
  {
   "cell_type": "markdown",
   "metadata": {},
   "source": [
    "For custom initialization, we want to modify these tensors in place. These are actually autograd *Variables*, so we need to get back the actual tensors with `model.fc1.weight.data`. Once we have the tensors, we can fill them with zeros (for biases) or random normal values."
   ]
  },
  {
   "cell_type": "code",
   "execution_count": 51,
   "metadata": {},
   "outputs": [
    {
     "data": {
      "text/plain": [
       "tensor([0., 0., 0., 0., 0., 0., 0., 0., 0., 0., 0., 0., 0., 0., 0., 0., 0., 0., 0., 0., 0., 0., 0., 0.,\n",
       "        0., 0., 0., 0., 0., 0., 0., 0., 0., 0., 0., 0., 0., 0., 0., 0., 0., 0., 0., 0., 0., 0., 0., 0.,\n",
       "        0., 0., 0., 0., 0., 0., 0., 0., 0., 0., 0., 0., 0., 0., 0., 0., 0., 0., 0., 0., 0., 0., 0., 0.,\n",
       "        0., 0., 0., 0., 0., 0., 0., 0., 0., 0., 0., 0., 0., 0., 0., 0., 0., 0., 0., 0., 0., 0., 0., 0.,\n",
       "        0., 0., 0., 0., 0., 0., 0., 0., 0., 0., 0., 0., 0., 0., 0., 0., 0., 0., 0., 0., 0., 0., 0., 0.,\n",
       "        0., 0., 0., 0., 0., 0., 0., 0.])"
      ]
     },
     "execution_count": 51,
     "metadata": {},
     "output_type": "execute_result"
    }
   ],
   "source": [
    "# Set biases to all zeros\n",
    "model.fc1.bias.data.fill_(0)"
   ]
  },
  {
   "cell_type": "code",
   "execution_count": 52,
   "metadata": {},
   "outputs": [
    {
     "data": {
      "text/plain": [
       "tensor([[ 0.0027, -0.0049, -0.0011,  ..., -0.0017,  0.0008, -0.0073],\n",
       "        [-0.0045,  0.0043, -0.0033,  ...,  0.0031, -0.0174,  0.0037],\n",
       "        [ 0.0017,  0.0040,  0.0164,  ..., -0.0015, -0.0163,  0.0143],\n",
       "        ...,\n",
       "        [-0.0005, -0.0036, -0.0081,  ..., -0.0029,  0.0100,  0.0038],\n",
       "        [-0.0138,  0.0211,  0.0030,  ..., -0.0076, -0.0026, -0.0114],\n",
       "        [-0.0071, -0.0054,  0.0100,  ..., -0.0020, -0.0037, -0.0065]])"
      ]
     },
     "execution_count": 52,
     "metadata": {},
     "output_type": "execute_result"
    }
   ],
   "source": [
    "# sample from random normal with standard dev = 0.01\n",
    "model.fc1.weight.data.normal_(std=0.01)"
   ]
  },
  {
   "cell_type": "markdown",
   "metadata": {},
   "source": [
    "### Forward pass\n",
    "\n",
    "Now that we have a network, let's see what happens when we pass in an image."
   ]
  },
  {
   "cell_type": "code",
   "execution_count": 59,
   "metadata": {},
   "outputs": [
    {
     "data": {
      "image/png": "[encoded data removed]",
      "text/plain": [
       "<Figure size 432x648 with 2 Axes>"
      ]
     },
     "metadata": {
      "image/png": {
       "height": 226,
       "width": 423
      },
      "needs_background": "light"
     },
     "output_type": "display_data"
    }
   ],
   "source": [
    "# Grab some data \n",
    "dataiter = iter(trainloader)\n",
    "images, labels = dataiter.next()\n",
    "\n",
    "# Resize images into a 1D vector, new shape is (batch size, color channels, image pixels) \n",
    "images.resize_(64, 1, 784)\n",
    "# or images.resize_(images.shape[0], 1, 784) to automatically get batch size\n",
    "\n",
    "# Forward pass through the network\n",
    "img_idx = 4\n",
    "ps = model.forward(images[img_idx,:])\n",
    "\n",
    "img = images[img_idx]\n",
    "helper.view_classify(img.view(1, 28, 28), ps)"
   ]
  },
  {
   "cell_type": "markdown",
   "metadata": {},
   "source": [
    "As you can see above, our network has basically no idea what this digit is. It's because we haven't trained it yet, all the weights are random!\n",
    "\n",
    "### Using `nn.Sequential`\n",
    "\n",
    "PyTorch provides a convenient way to build networks like this where a tensor is passed sequentially through operations, `nn.Sequential` ([documentation](https://pytorch.org/docs/master/nn.html#torch.nn.Sequential)). Using this to build the equivalent network:"
   ]
  },
  {
   "cell_type": "code",
   "execution_count": 60,
   "metadata": {},
   "outputs": [
    {
     "name": "stdout",
     "output_type": "stream",
     "text": [
      "Sequential(\n",
      "  (0): Linear(in_features=784, out_features=128, bias=True)\n",
      "  (1): ReLU()\n",
      "  (2): Linear(in_features=128, out_features=64, bias=True)\n",
      "  (3): ReLU()\n",
      "  (4): Linear(in_features=64, out_features=10, bias=True)\n",
      "  (5): Softmax(dim=1)\n",
      ")\n"
     ]
    },
    {
     "data": {
      "image/png": "[encoded data removed]",
      "text/plain": [
       "<Figure size 432x648 with 2 Axes>"
      ]
     },
     "metadata": {
      "image/png": {
       "height": 226,
       "width": 423
      },
      "needs_background": "light"
     },
     "output_type": "display_data"
    }
   ],
   "source": [
    "# Hyperparameters for our network\n",
    "input_size = 784\n",
    "hidden_sizes = [128, 64]\n",
    "output_size = 10\n",
    "\n",
    "# Build a feed-forward network\n",
    "model = nn.Sequential(nn.Linear(input_size, hidden_sizes[0]),\n",
    "                      nn.ReLU(),\n",
    "                      nn.Linear(hidden_sizes[0], hidden_sizes[1]),\n",
    "                      nn.ReLU(),\n",
    "                      nn.Linear(hidden_sizes[1], output_size),\n",
    "                      nn.Softmax(dim=1))\n",
    "print(model)\n",
    "\n",
    "# Forward pass through the network and display output\n",
    "images, labels = next(iter(trainloader))\n",
    "images.resize_(images.shape[0], 1, 784)\n",
    "ps = model.forward(images[0,:])\n",
    "helper.view_classify(images[0].view(1, 28, 28), ps)"
   ]
  },
  {
   "cell_type": "markdown",
   "metadata": {},
   "source": [
    "Here our model is the same as before: 784 input units, a hidden layer with 128 units, ReLU activation, 64 unit hidden layer, another ReLU, then the output layer with 10 units, and the softmax output.\n",
    "\n",
    "The operations are available by passing in the appropriate index. For example, if you want to get first Linear operation and look at the weights, you'd use `model[0]`."
   ]
  },
  {
   "cell_type": "code",
   "execution_count": 61,
   "metadata": {},
   "outputs": [
    {
     "name": "stdout",
     "output_type": "stream",
     "text": [
      "Linear(in_features=784, out_features=128, bias=True)\n"
     ]
    },
    {
     "data": {
      "text/plain": [
       "Parameter containing:\n",
       "tensor([[ 0.0355,  0.0228, -0.0170,  ..., -0.0312, -0.0257,  0.0189],\n",
       "        [-0.0179, -0.0173, -0.0124,  ...,  0.0118, -0.0005,  0.0161],\n",
       "        [ 0.0224, -0.0012,  0.0294,  ...,  0.0123,  0.0275, -0.0124],\n",
       "        ...,\n",
       "        [-0.0112,  0.0058, -0.0252,  ..., -0.0067, -0.0278, -0.0276],\n",
       "        [-0.0144, -0.0294, -0.0215,  ...,  0.0337,  0.0124, -0.0075],\n",
       "        [ 0.0072, -0.0021, -0.0130,  ...,  0.0203,  0.0113, -0.0207]],\n",
       "       requires_grad=True)"
      ]
     },
     "execution_count": 61,
     "metadata": {},
     "output_type": "execute_result"
    }
   ],
   "source": [
    "print(model[0])\n",
    "model[0].weight"
   ]
  },
  {
   "cell_type": "markdown",
   "metadata": {},
   "source": [
    "You can also pass in an `OrderedDict` to name the individual layers and operations, instead of using incremental integers. Note that dictionary keys must be unique, so _each operation must have a different name_."
   ]
  },
  {
   "cell_type": "code",
   "execution_count": 62,
   "metadata": {},
   "outputs": [
    {
     "data": {
      "text/plain": [
       "Sequential(\n",
       "  (fc1): Linear(in_features=784, out_features=128, bias=True)\n",
       "  (relu1): ReLU()\n",
       "  (fc2): Linear(in_features=128, out_features=64, bias=True)\n",
       "  (relu2): ReLU()\n",
       "  (output): Linear(in_features=64, out_features=10, bias=True)\n",
       "  (softmax): Softmax(dim=1)\n",
       ")"
      ]
     },
     "execution_count": 62,
     "metadata": {},
     "output_type": "execute_result"
    }
   ],
   "source": [
    "from collections import OrderedDict\n",
    "model = nn.Sequential(OrderedDict([\n",
    "                      ('fc1', nn.Linear(input_size, hidden_sizes[0])),\n",
    "                      ('relu1', nn.ReLU()),\n",
    "                      ('fc2', nn.Linear(hidden_sizes[0], hidden_sizes[1])),\n",
    "                      ('relu2', nn.ReLU()),\n",
    "                      ('output', nn.Linear(hidden_sizes[1], output_size)),\n",
    "                      ('softmax', nn.Softmax(dim=1))]))\n",
    "model"
   ]
  },
  {
   "cell_type": "markdown",
   "metadata": {},
   "source": [
    "Now you can access layers either by integer or the name"
   ]
  },
  {
   "cell_type": "code",
   "execution_count": 63,
   "metadata": {},
   "outputs": [
    {
     "name": "stdout",
     "output_type": "stream",
     "text": [
      "Linear(in_features=784, out_features=128, bias=True)\n",
      "Linear(in_features=784, out_features=128, bias=True)\n"
     ]
    }
   ],
   "source": [
    "print(model[0])\n",
    "print(model.fc1)"
   ]
  },
  {
   "cell_type": "markdown",
   "metadata": {},
   "source": [
    "In the next notebook, we'll see how we can train a neural network to accuractly predict the numbers appearing in the MNIST images."
   ]
  }
 ],
 "metadata": {
  "kernelspec": {
   "display_name": "Python 3",
   "language": "python",
   "name": "python3"
  },
  "language_info": {
   "codemirror_mode": {
    "name": "ipython",
    "version": 3
   },
   "file_extension": ".py",
   "mimetype": "text/x-python",
   "name": "python",
   "nbconvert_exporter": "python",
   "pygments_lexer": "ipython3",
   "version": "3.7.4"
  }
 },
 "nbformat": 4,
 "nbformat_minor": 2
}
