{
 "cells": [
  {
   "cell_type": "markdown",
   "metadata": {},
   "source": [
    "# Saving and Loading Models\n",
    "\n",
    "In this notebook, I'll show you how to save and load models with PyTorch. This is important because you'll often want to load previously trained models to use in making predictions or to continue training on new data."
   ]
  },
  {
   "cell_type": "code",
   "execution_count": 1,
   "metadata": {},
   "outputs": [],
   "source": [
    "%matplotlib inline\n",
    "%config InlineBackend.figure_format = 'retina'\n",
    "\n",
    "import matplotlib.pyplot as plt\n",
    "\n",
    "import torch\n",
    "from torch import nn\n",
    "from torch import optim\n",
    "import torch.nn.functional as F\n",
    "from torchvision import datasets, transforms\n",
    "\n",
    "import helper\n",
    "import fc_model"
   ]
  },
  {
   "cell_type": "code",
   "execution_count": 2,
   "metadata": {},
   "outputs": [],
   "source": [
    "# Define a transform to normalize the data\n",
    "transform = transforms.Compose([transforms.ToTensor(),\n",
    "                                transforms.Normalize((0.5,), (0.5,))])\n",
    "# Download and load the training data\n",
    "trainset = datasets.FashionMNIST('~/.pytorch/F_MNIST_data/', download=True, train=True, transform=transform)\n",
    "trainloader = torch.utils.data.DataLoader(trainset, batch_size=64, shuffle=True)\n",
    "\n",
    "# Download and load the test data\n",
    "testset = datasets.FashionMNIST('~/.pytorch/F_MNIST_data/', download=True, train=False, transform=transform)\n",
    "testloader = torch.utils.data.DataLoader(testset, batch_size=64, shuffle=True)"
   ]
  },
  {
   "cell_type": "markdown",
   "metadata": {},
   "source": [
    "Here we can see one of the images."
   ]
  },
  {
   "cell_type": "code",
   "execution_count": 7,
   "metadata": {},
   "outputs": [
    {
     "data": {
      "image/png": "[encoded data removed]",
      "text/plain": [
       "<Figure size 432x288 with 1 Axes>"
      ]
     },
     "metadata": {
      "image/png": {
       "height": 233,
       "width": 233
      },
      "needs_background": "light"
     },
     "output_type": "display_data"
    }
   ],
   "source": [
    "image, label = next(iter(trainloader))\n",
    "helper.imshow(image[0,:]);"
   ]
  },
  {
   "cell_type": "markdown",
   "metadata": {},
   "source": [
    "# Train a network\n",
    "\n",
    "To make things more concise here, I moved the model architecture and training code from the last part to a file called `fc_model`. Importing this, we can easily create a fully-connected network with `fc_model.Network`, and train the network using `fc_model.train`. I'll use this model (once it's trained) to demonstrate how we can save and load models."
   ]
  },
  {
   "cell_type": "code",
   "execution_count": 8,
   "metadata": {},
   "outputs": [],
   "source": [
    "# Create the network, define the criterion and optimizer\n",
    "\n",
    "model = fc_model.Network(784, 10, [512, 256, 128])\n",
    "criterion = nn.NLLLoss()\n",
    "optimizer = optim.Adam(model.parameters(), lr=0.001)"
   ]
  },
  {
   "cell_type": "code",
   "execution_count": 9,
   "metadata": {},
   "outputs": [
    {
     "name": "stdout",
     "output_type": "stream",
     "text": [
      "Epoch: 1/2..  Training Loss: 1.641..  Test Loss: 0.959..  Test Accuracy: 0.640\n",
      "Epoch: 1/2..  Training Loss: 1.056..  Test Loss: 0.729..  Test Accuracy: 0.729\n",
      "Epoch: 1/2..  Training Loss: 0.856..  Test Loss: 0.671..  Test Accuracy: 0.739\n",
      "Epoch: 1/2..  Training Loss: 0.772..  Test Loss: 0.626..  Test Accuracy: 0.768\n",
      "Epoch: 1/2..  Training Loss: 0.747..  Test Loss: 0.602..  Test Accuracy: 0.774\n",
      "Epoch: 1/2..  Training Loss: 0.693..  Test Loss: 0.605..  Test Accuracy: 0.771\n",
      "Epoch: 1/2..  Training Loss: 0.710..  Test Loss: 0.620..  Test Accuracy: 0.760\n",
      "Epoch: 1/2..  Training Loss: 0.691..  Test Loss: 0.558..  Test Accuracy: 0.779\n",
      "Epoch: 1/2..  Training Loss: 0.636..  Test Loss: 0.563..  Test Accuracy: 0.794\n",
      "Epoch: 1/2..  Training Loss: 0.628..  Test Loss: 0.534..  Test Accuracy: 0.802\n",
      "Epoch: 1/2..  Training Loss: 0.634..  Test Loss: 0.538..  Test Accuracy: 0.800\n",
      "Epoch: 1/2..  Training Loss: 0.645..  Test Loss: 0.530..  Test Accuracy: 0.799\n",
      "Epoch: 1/2..  Training Loss: 0.608..  Test Loss: 0.515..  Test Accuracy: 0.814\n",
      "Epoch: 1/2..  Training Loss: 0.601..  Test Loss: 0.520..  Test Accuracy: 0.811\n",
      "Epoch: 1/2..  Training Loss: 0.580..  Test Loss: 0.519..  Test Accuracy: 0.803\n",
      "Epoch: 1/2..  Training Loss: 0.634..  Test Loss: 0.513..  Test Accuracy: 0.814\n",
      "Epoch: 1/2..  Training Loss: 0.603..  Test Loss: 0.495..  Test Accuracy: 0.817\n",
      "Epoch: 1/2..  Training Loss: 0.584..  Test Loss: 0.494..  Test Accuracy: 0.816\n",
      "Epoch: 1/2..  Training Loss: 0.586..  Test Loss: 0.525..  Test Accuracy: 0.808\n",
      "Epoch: 1/2..  Training Loss: 0.569..  Test Loss: 0.491..  Test Accuracy: 0.817\n",
      "Epoch: 1/2..  Training Loss: 0.577..  Test Loss: 0.512..  Test Accuracy: 0.812\n",
      "Epoch: 1/2..  Training Loss: 0.555..  Test Loss: 0.511..  Test Accuracy: 0.808\n",
      "Epoch: 1/2..  Training Loss: 0.574..  Test Loss: 0.481..  Test Accuracy: 0.817\n",
      "Epoch: 2/2..  Training Loss: 0.560..  Test Loss: 0.479..  Test Accuracy: 0.824\n",
      "Epoch: 2/2..  Training Loss: 0.541..  Test Loss: 0.506..  Test Accuracy: 0.811\n",
      "Epoch: 2/2..  Training Loss: 0.543..  Test Loss: 0.485..  Test Accuracy: 0.820\n",
      "Epoch: 2/2..  Training Loss: 0.525..  Test Loss: 0.469..  Test Accuracy: 0.826\n",
      "Epoch: 2/2..  Training Loss: 0.506..  Test Loss: 0.485..  Test Accuracy: 0.834\n",
      "Epoch: 2/2..  Training Loss: 0.545..  Test Loss: 0.460..  Test Accuracy: 0.834\n",
      "Epoch: 2/2..  Training Loss: 0.508..  Test Loss: 0.471..  Test Accuracy: 0.830\n",
      "Epoch: 2/2..  Training Loss: 0.529..  Test Loss: 0.468..  Test Accuracy: 0.828\n",
      "Epoch: 2/2..  Training Loss: 0.541..  Test Loss: 0.452..  Test Accuracy: 0.834\n",
      "Epoch: 2/2..  Training Loss: 0.549..  Test Loss: 0.471..  Test Accuracy: 0.832\n",
      "Epoch: 2/2..  Training Loss: 0.495..  Test Loss: 0.459..  Test Accuracy: 0.828\n",
      "Epoch: 2/2..  Training Loss: 0.525..  Test Loss: 0.481..  Test Accuracy: 0.827\n",
      "Epoch: 2/2..  Training Loss: 0.534..  Test Loss: 0.454..  Test Accuracy: 0.836\n",
      "Epoch: 2/2..  Training Loss: 0.519..  Test Loss: 0.460..  Test Accuracy: 0.832\n",
      "Epoch: 2/2..  Training Loss: 0.532..  Test Loss: 0.483..  Test Accuracy: 0.818\n",
      "Epoch: 2/2..  Training Loss: 0.562..  Test Loss: 0.461..  Test Accuracy: 0.832\n",
      "Epoch: 2/2..  Training Loss: 0.546..  Test Loss: 0.445..  Test Accuracy: 0.841\n",
      "Epoch: 2/2..  Training Loss: 0.518..  Test Loss: 0.439..  Test Accuracy: 0.840\n",
      "Epoch: 2/2..  Training Loss: 0.550..  Test Loss: 0.448..  Test Accuracy: 0.839\n",
      "Epoch: 2/2..  Training Loss: 0.502..  Test Loss: 0.445..  Test Accuracy: 0.836\n",
      "Epoch: 2/2..  Training Loss: 0.515..  Test Loss: 0.455..  Test Accuracy: 0.836\n",
      "Epoch: 2/2..  Training Loss: 0.521..  Test Loss: 0.432..  Test Accuracy: 0.846\n",
      "Epoch: 2/2..  Training Loss: 0.511..  Test Loss: 0.442..  Test Accuracy: 0.839\n"
     ]
    }
   ],
   "source": [
    "fc_model.train(model, trainloader, testloader, criterion, optimizer, epochs=2)"
   ]
  },
  {
   "cell_type": "markdown",
   "metadata": {},
   "source": [
    "## Saving and loading networks\n",
    "\n",
    "As you can imagine, it's impractical to train a network every time you need to use it. Instead, we can save trained networks then load them later to train more or use them for predictions.\n",
    "\n",
    "The parameters for PyTorch networks are stored in a model's `state_dict`. We can see the state dict contains the weight and bias matrices for each of our layers."
   ]
  },
  {
   "cell_type": "code",
   "execution_count": 10,
   "metadata": {},
   "outputs": [
    {
     "name": "stdout",
     "output_type": "stream",
     "text": [
      "Our model: \n",
      "\n",
      " Network(\n",
      "  (hidden_layers): ModuleList(\n",
      "    (0): Linear(in_features=784, out_features=512, bias=True)\n",
      "    (1): Linear(in_features=512, out_features=256, bias=True)\n",
      "    (2): Linear(in_features=256, out_features=128, bias=True)\n",
      "  )\n",
      "  (output): Linear(in_features=128, out_features=10, bias=True)\n",
      "  (dropout): Dropout(p=0.5, inplace=False)\n",
      ") \n",
      "\n",
      "The state dict keys: \n",
      "\n",
      " odict_keys(['hidden_layers.0.weight', 'hidden_layers.0.bias', 'hidden_layers.1.weight', 'hidden_layers.1.bias', 'hidden_layers.2.weight', 'hidden_layers.2.bias', 'output.weight', 'output.bias'])\n"
     ]
    }
   ],
   "source": [
    "print(\"Our model: \\n\\n\", model, '\\n')\n",
    "print(\"The state dict keys: \\n\\n\", model.state_dict().keys())"
   ]
  },
  {
   "cell_type": "markdown",
   "metadata": {},
   "source": [
    "The simplest thing to do is simply save the state dict with `torch.save`. For example, we can save it to a file `'checkpoint.pth'`."
   ]
  },
  {
   "cell_type": "code",
   "execution_count": 11,
   "metadata": {},
   "outputs": [],
   "source": [
    "torch.save(model.state_dict(), 'checkpoint.pth')"
   ]
  },
  {
   "cell_type": "markdown",
   "metadata": {},
   "source": [
    "Then we can load the state dict with `torch.load`."
   ]
  },
  {
   "cell_type": "code",
   "execution_count": null,
   "metadata": {},
   "outputs": [],
   "source": [
    "state_dict = torch.load('checkpoint.pth')\n",
    "print(state_dict.keys())"
   ]
  },
  {
   "cell_type": "markdown",
   "metadata": {},
   "source": [
    "And to load the state dict in to the network, you do `model.load_state_dict(state_dict)`."
   ]
  },
  {
   "cell_type": "code",
   "execution_count": null,
   "metadata": {},
   "outputs": [],
   "source": [
    "model.load_state_dict(state_dict)"
   ]
  },
  {
   "cell_type": "markdown",
   "metadata": {},
   "source": [
    "Seems pretty straightforward, but as usual it's a bit more complicated. Loading the state dict works only if the model architecture is exactly the same as the checkpoint architecture. If I create a model with a different architecture, this fails."
   ]
  },
  {
   "cell_type": "code",
   "execution_count": null,
   "metadata": {},
   "outputs": [],
   "source": [
    "# Try this\n",
    "model = fc_model.Network(784, 10, [400, 200, 100])\n",
    "# This will throw an error because the tensor sizes are wrong!\n",
    "model.load_state_dict(state_dict)"
   ]
  },
  {
   "cell_type": "markdown",
   "metadata": {},
   "source": [
    "This means we need to rebuild the model exactly as it was when trained. Information about the model architecture needs to be saved in the checkpoint, along with the state dict. To do this, you build a dictionary with all the information you need to compeletely rebuild the model."
   ]
  },
  {
   "cell_type": "code",
   "execution_count": null,
   "metadata": {},
   "outputs": [],
   "source": [
    "checkpoint = {'input_size': 784,\n",
    "              'output_size': 10,\n",
    "              'hidden_layers': [each.out_features for each in model.hidden_layers],\n",
    "              'state_dict': model.state_dict()}\n",
    "\n",
    "torch.save(checkpoint, 'checkpoint.pth')"
   ]
  },
  {
   "cell_type": "markdown",
   "metadata": {},
   "source": [
    "Now the checkpoint has all the necessary information to rebuild the trained model. You can easily make that a function if you want. Similarly, we can write a function to load checkpoints. "
   ]
  },
  {
   "cell_type": "code",
   "execution_count": null,
   "metadata": {},
   "outputs": [],
   "source": [
    "def load_checkpoint(filepath):\n",
    "    checkpoint = torch.load(filepath)\n",
    "    model = fc_model.Network(checkpoint['input_size'],\n",
    "                             checkpoint['output_size'],\n",
    "                             checkpoint['hidden_layers'])\n",
    "    model.load_state_dict(checkpoint['state_dict'])\n",
    "    \n",
    "    return model"
   ]
  },
  {
   "cell_type": "code",
   "execution_count": null,
   "metadata": {},
   "outputs": [],
   "source": [
    "model = load_checkpoint('checkpoint.pth')\n",
    "print(model)"
   ]
  }
 ],
 "metadata": {
  "kernelspec": {
   "display_name": "Python 3",
   "language": "python",
   "name": "python3"
  },
  "language_info": {
   "codemirror_mode": {
    "name": "ipython",
    "version": 3
   },
   "file_extension": ".py",
   "mimetype": "text/x-python",
   "name": "python",
   "nbconvert_exporter": "python",
   "pygments_lexer": "ipython3",
   "version": "3.7.4"
  }
 },
 "nbformat": 4,
 "nbformat_minor": 2
}
